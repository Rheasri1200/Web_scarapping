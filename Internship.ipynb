{
 "cells": [
  {
   "cell_type": "code",
   "execution_count": 12,
   "metadata": {},
   "outputs": [],
   "source": [
    "#Importing Libraries\n",
    "from selenium import webdriver\n",
    "from bs4 import BeautifulSoup\n",
    "import pandas as pd\n",
    "import csv\n",
    "import re"
   ]
  },
  {
   "cell_type": "code",
   "execution_count": 16,
   "metadata": {},
   "outputs": [
    {
     "name": "stdout",
     "output_type": "stream",
     "text": [
      "'NoneType' object has no attribute 'find'\n"
     ]
    }
   ],
   "source": [
    "\n",
    "for pageno in range(1,2): \n",
    "    driver = webdriver.Chrome(r\"C:\\Users\\Rishabh\\Downloads\\chromedriver_win32\\chromedriver\")\n",
    "    \n",
    "    \n",
    "    driver.get(\"https://www.fundoodata.com/companies-in/delhi-ncr-l0?pageno=\"+str(pageno))\n",
    "    \n",
    "    \n",
    "    content = driver.page_source\n",
    "    \n",
    "    \n",
    "    soup = BeautifulSoup(content,'html.parser')\n",
    "    \n",
    "    \n",
    "    articles = soup.find_all('div',class_='search-result')\n",
    "\n",
    "    companies=[]\n",
    "    for article in articles:\n",
    "    \n",
    "    \n",
    "        art = article.find('div',class_='heading')\n",
    "        try:\n",
    "            elem = art.find('a')\n",
    "            Company_Name=elem.text\n",
    "            Phone_No,Website,Address,Types=__get_contact_info(elem['href'])\n",
    "            \n",
    "\n",
    "        except Exception as e:\n",
    "            print(e)\n",
    "        companies.append([Company_Name,Phone_No,Website,Address,Types])\n",
    "        \n",
    "    driver.quit() \n",
    "    with open ('delhi.csv','w') as file:\n",
    "        writer=csv.writer(file)\n",
    "        for row in companies: \n",
    "            writer.writerow(row)\n",
    "\n",
    "    "
   ]
  },
  {
   "cell_type": "code",
   "execution_count": 15,
   "metadata": {},
   "outputs": [],
   "source": [
    "def __get_contact_info(url):\n",
    "    driver = webdriver.Chrome(r\"C:\\Users\\Rishabh\\Downloads\\chromedriver_win32\\chromedriver\")\n",
    "    response=driver.get(url)\n",
    "    content = driver.page_source\n",
    "    soup = BeautifulSoup(content,'html.parser')\n",
    "    details = soup.find('div',class_= 'detail-line')\n",
    "    #details = re.findall(r'((\\(?\\d{2,3}\\)?\\D{0,3}\\d{6,10})|\\d{10})',content)\n",
    "    det = re.findall(r'(\\(?\\d{2,3}\\)?\\D{0,3}\\d{6,10}|\\d{10})',details.text)\n",
    "    em = soup.find('a',class_= 'pglink')\n",
    "    emid=em.text\n",
    "    for add_tag in soup.find_all('font'):\n",
    "        address=add_tag.next_sibling\n",
    "        break\n",
    "    com_type=soup.find('div',class_= 'overview-box2')\n",
    "    types=com_type.text\n",
    "    driver.quit()\n",
    "    return det,emid,address,types"
   ]
  },
  {
   "cell_type": "code",
   "execution_count": null,
   "metadata": {},
   "outputs": [],
   "source": []
  }
 ],
 "metadata": {
  "kernelspec": {
   "display_name": "Python 3",
   "language": "python",
   "name": "python3"
  },
  "language_info": {
   "codemirror_mode": {
    "name": "ipython",
    "version": 3
   },
   "file_extension": ".py",
   "mimetype": "text/x-python",
   "name": "python",
   "nbconvert_exporter": "python",
   "pygments_lexer": "ipython3",
   "version": "3.7.9"
  }
 },
 "nbformat": 4,
 "nbformat_minor": 4
}
